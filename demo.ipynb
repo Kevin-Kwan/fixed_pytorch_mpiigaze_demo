{
  "cells": [
    {
      "cell_type": "code",
      "execution_count": null,
      "id": "07236d7c",
      "metadata": {
        "ExecuteTime": {
          "start_time": "2021-10-21T09:52:57.162Z"
        },
        "id": "07236d7c"
      },
      "outputs": [],
      "source": [
        "!git clone -q https://github.com/Kevin-Kwan/pytorch_mpiigaze_demo\n",
        "!cd pytorch_mpiigaze_demo && python setup.py install\n",
        "!pip install -U pyyaml"
      ]
    },
    {
      "cell_type": "code",
      "execution_count": 2,
      "id": "a7f04682",
      "metadata": {
        "ExecuteTime": {
          "start_time": "2021-10-21T09:53:05.033Z"
        },
        "id": "a7f04682"
      },
      "outputs": [],
      "source": [
        "!ptgaze --mode mpiifacegaze --video pytorch_mpiigaze_demo/assets/inputs/video01.mp4 --o . --no-screen"
      ]
    },
    {
      "cell_type": "code",
      "execution_count": null,
      "id": "af873e50",
      "metadata": {
        "ExecuteTime": {
          "start_time": "2021-10-21T09:53:12.015Z"
        },
        "id": "af873e50"
      },
      "outputs": [],
      "source": [
        "!ffmpeg -i video01.avi -c:v libx264 out.mp4"
      ]
    },
    {
      "cell_type": "code",
      "execution_count": null,
      "id": "ead94a63",
      "metadata": {
        "ExecuteTime": {
          "start_time": "2021-10-21T09:53:24.304Z"
        },
        "id": "ead94a63"
      },
      "outputs": [],
      "source": [
        "from IPython.display import HTML\n",
        "from base64 import b64encode\n",
        "\n",
        "HTML(f\"\"\"\n",
        "<video height=400 controls>\n",
        "  <source src=\"data:video/mp4;base64,{b64encode(open('out.mp4','rb').read()).decode()}\" type=\"video/mp4\">\n",
        "</video>\n",
        "\"\"\")"
      ]
    }
  ],
  "metadata": {
    "kernelspec": {
      "display_name": "Python 3",
      "language": "python",
      "name": "python3"
    },
    "language_info": {
      "codemirror_mode": {
        "name": "ipython",
        "version": 3
      },
      "file_extension": ".py",
      "mimetype": "text/x-python",
      "name": "python",
      "nbconvert_exporter": "python",
      "pygments_lexer": "ipython3",
      "version": "3.9.5"
    },
    "toc": {
      "base_numbering": 1,
      "nav_menu": {},
      "number_sections": true,
      "sideBar": true,
      "skip_h1_title": false,
      "title_cell": "Table of Contents",
      "title_sidebar": "Contents",
      "toc_cell": false,
      "toc_position": {},
      "toc_section_display": true,
      "toc_window_display": false
    },
    "colab": {
      "provenance": []
    }
  },
  "nbformat": 4,
  "nbformat_minor": 5
}